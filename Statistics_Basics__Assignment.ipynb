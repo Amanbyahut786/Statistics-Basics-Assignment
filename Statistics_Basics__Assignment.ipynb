{
  "nbformat": 4,
  "nbformat_minor": 0,
  "metadata": {
    "colab": {
      "private_outputs": true,
      "provenance": []
    },
    "kernelspec": {
      "name": "python3",
      "display_name": "Python 3"
    },
    "language_info": {
      "name": "python"
    }
  },
  "cells": [
    {
      "cell_type": "markdown",
      "source": [
        "# Statistics Basics| Assignment"
      ],
      "metadata": {
        "id": "8BsjxWDbHxWA"
      }
    },
    {
      "cell_type": "markdown",
      "metadata": {
        "id": "72569ced"
      },
      "source": [
        "### Question 1: What is the difference between descriptive statistics and inferential statistics? Explain with examples.\n",
        "\n",
        "**Descriptive Statistics:**\n",
        "\n",
        "* Descriptive statistics are used to summarize and describe the main features of a dataset. They provide simple summaries about the sample and about the observations that have been made. These summaries may be either quantitative (e.g., calculating the average height of students in a class) or visual (e.g., creating a bar chart to show the distribution of test scores).\n",
        "\n",
        "Examples of descriptive statistics include:\n",
        "\n",
        "*   **Measures of central tendency:** Mean, median, mode (e.g., the average income of a city's residents).\n",
        "*   **Measures of dispersion:** Range, variance, standard deviation (e.g., the spread of ages in a survey group).\n",
        "*   **Frequency distributions:** Tables or graphs showing how often each value or range of values appears in a dataset (e.g., a histogram showing the distribution of grades on an exam).\n",
        "\n",
        "**Inferential Statistics:**\n",
        "\n",
        "Inferential statistics are used to make inferences or predictions about a larger population based on a sample of data taken from that population. They allow us to draw conclusions beyond the immediate data alone and to make generalizations.\n",
        "\n",
        "Examples of inferential statistics include:\n",
        "\n",
        "*   **Hypothesis testing:** Determining if there is enough evidence to reject a null hypothesis (e.g., testing if a new drug is effective in treating a disease).\n",
        "*   **Confidence intervals:** Estimating a range of values within which a population parameter is likely to fall (e.g., estimating the average height of all adult males in a country based on a sample).\n",
        "*   **Regression analysis:** Examining the relationship between two or more variables to make predictions (e.g., predicting a student's test score based on the number of hours they studied).\n",
        "\n",
        "* In essence, descriptive statistics describe what is in the data, while inferential statistics allow us to make educated guesses and draw conclusions about a larger group based on that data."
      ]
    },
    {
      "cell_type": "markdown",
      "metadata": {
        "id": "d0151625"
      },
      "source": [
        "### Question 2: What is sampling in statistics? Explain the differences between random and stratified sampling.\n",
        "\n",
        "**Sampling in Statistics:**\n",
        "\n",
        "* Sampling in statistics is the process of selecting a subset of individuals or observations from a larger population. It is often impractical or impossible to collect data from every member of a population, so researchers use sampling to gather data from a representative group that can be used to make inferences about the entire population.\n",
        "\n",
        "**Random Sampling:**\n",
        "\n",
        "* Random sampling (also known as simple random sampling) is a method where every member of the population has an equal chance of being selected for the sample. This method helps to minimize bias and ensures that the sample is likely to be representative of the population.\n",
        "\n",
        "*   **Example:** Imagine you want to survey students' opinions on a new school policy. In random sampling, you could put all students' names into a hat and draw a certain number of names randomly to be your sample.\n",
        "\n",
        "**Stratified Sampling:**\n",
        "\n",
        "* Stratified sampling is a method where the population is divided into subgroups or \"strata\" based on shared characteristics (e.g., age, gender, income level). Then, a random sample is taken from each stratum in proportion to its size in the population. This method ensures that each subgroup is adequately represented in the sample, which can be important when the characteristic being studied varies significantly across subgroups.\n",
        "\n",
        "*   **Example:** If you are conducting a survey about voting preferences in a city, you might divide the population into strata based on age groups (e.g., 18-25, 26-40, 41-60, 61+). You would then randomly sample from each age group in proportion to their representation in the city's population. This ensures that your sample reflects the age distribution of the city.\n",
        "\n",
        "**Key Differences:**\n",
        "\n",
        "| Feature           | Random Sampling                          | Stratified Sampling                                 |\n",
        "| :---------------- | :--------------------------------------- | :-------------------------------------------------- |\n",
        "| **Process**       | Every member has an equal chance.        | Population divided into strata, then random sampling within strata. |\n",
        "| **Population Division** | No division of the population.         | Population is divided into subgroups (strata).      |\n",
        "| **Representation** | Relies on randomness for representation. | Ensures representation of specific subgroups.       |\n",
        "| **Use Case**      | Suitable for homogeneous populations.    | Suitable for heterogeneous populations with important subgroups. |"
      ]
    },
    {
      "cell_type": "markdown",
      "metadata": {
        "id": "4b90628b"
      },
      "source": [
        "### Question 3: Define mean, median, and mode. Explain why these measures of central tendency are important.\n",
        "\n",
        "**Measures of Central Tendency:**\n",
        "\n",
        "* Measures of central tendency are statistical values that represent the center or typical value of a dataset. They provide a single value that summarizes the distribution of data. The three most common measures of central tendency are the mean, median, and mode.\n",
        "\n",
        "*   **Mean:**\n",
        "* The mean (or arithmetic average) is calculated by summing all the values in a dataset and dividing by the number of values. It is sensitive to extreme values (outliers).\n",
        "\n",
        "    *   **Example:** For the dataset [10, 15, 20, 25, 30], the mean is (10 + 15 + 20 + 25 + 30) / 5 = 100 / 5 = 20.\n",
        "\n",
        "*   **Median:**\n",
        "* The median is the middle value in a dataset that has been ordered from least to greatest. If the dataset has an even number of values, the median is the average of the two middle values. The median is not affected by extreme values.\n",
        "\n",
        "    *   **Example:** For the dataset [10, 15, 20, 25, 30], the ordered dataset is [10, 15, 20, 25, 30]. The middle value is 20, so the median is 20.\n",
        "    *   **Example:** For the dataset [10, 15, 20, 25, 30, 35], the ordered dataset is [10, 15, 20, 25, 30, 35]. The two middle values are 20 and 25, so the median is (20 + 25) / 2 = 22.5.\n",
        "\n",
        "*   **Mode:** The mode is the value that appears most frequently in a dataset. A dataset can have one mode (unimodal), more than one mode (multimodal), or no mode.\n",
        "\n",
        "    *   **Example:** For the dataset [10, 15, 20, 20, 25, 30], the mode is 20 because it appears most often.\n",
        "    *   **Example:** For the dataset [10, 10, 15, 20, 20, 25], the modes are 10 and 20.\n",
        "    *   **Example:** For the dataset [10, 15, 20, 25, 30], there is no mode as each value appears only once.\n",
        "\n",
        "**Importance of Measures of Central Tendency:**\n",
        "\n",
        "These measures are important for several reasons:\n",
        "\n",
        "*   **Summarizing data:** They provide a single, representative value that can summarize a large dataset, making it easier to understand and interpret.\n",
        "*   **Comparing datasets:** They allow for easy comparison between different datasets by looking at their typical values.\n",
        "*   **Identifying typical values:** They help identify what a \"typical\" observation in the dataset looks like.\n",
        "*   **Basis for further analysis:** They are often the starting point for more advanced statistical analyses.\n",
        "\n",
        "* Choosing the appropriate measure of central tendency depends on the type of data and the presence of outliers. The mean is suitable for symmetrical distributions without outliers, while the median is preferred for skewed distributions or datasets with outliers. The mode is useful for categorical or discrete data."
      ]
    },
    {
      "cell_type": "markdown",
      "metadata": {
        "id": "6503981f"
      },
      "source": [
        "### Question 4: Explain skewness and kurtosis. What does a positive skew imply about the data?\n",
        "\n",
        "**Skewness:**\n",
        "\n",
        "* Skewness is a measure of the asymmetry of the probability distribution of a real-valued random variable about its mean. In simpler terms, it indicates the extent to which a dataset is not symmetrical.\n",
        "\n",
        "*   **Positive Skew (Right Skew):**\n",
        "* When a distribution has a positive skew, its tail extends more to the right side. This indicates that there are more extreme values on the higher end of the distribution. The mean is typically greater than the median in a positively skewed distribution.\n",
        "\n",
        "    *   **What a positive skew implies:**\n",
        "    * A positive skew means that the majority of the data points are clustered towards the lower end, and there are some higher values that are pulling the mean towards the right. For example, income data often exhibits a positive skew, where most people earn a lower income, but a few individuals earn significantly higher incomes.\n",
        "\n",
        "*   **Negative Skew (Left Skew):**\n",
        "* When a distribution has a negative skew, its tail extends more to the left side. This indicates that there are more extreme values on the lower end of the distribution. The mean is typically less than the median in a negatively skewed distribution.\n",
        "\n",
        "*   **Zero Skew:**\n",
        "* A distribution with zero skew is perfectly symmetrical, like a normal distribution. The mean, median, and mode are all equal in a perfectly symmetrical distribution.\n",
        "\n",
        "**Kurtosis:**\n",
        "\n",
        "* Kurtosis is a measure of the \"tailedness\" and peakedness of the probability distribution of a real-valued random variable. It describes the shape of the distribution's tails relative to the tails of a normal distribution.\n",
        "\n",
        "*   **Leptokurtic (High Kurtosis):**\n",
        "* Distributions that are leptokurtic have heavier tails and a sharper peak than a normal distribution. This means there is a higher probability of extreme values (outliers).\n",
        "\n",
        "*   **Mesokurtic (Medium Kurtosis):**\n",
        "* Distributions that are mesokurtic have kurtosis similar to a normal distribution.\n",
        "\n",
        "*   **Platykurtic (Low Kurtosis):**\n",
        "* Distributions that are platykurtic have lighter tails and a flatter peak than a normal distribution. This means there is a lower probability of extreme values.\n",
        "\n",
        "**In summary:**\n",
        "\n",
        "*   **Skewness** tells us about the symmetry of the data.\n",
        "*   **Kurtosis** tells us about the shape of the tails and the peakedness of the data.\n",
        "\n",
        "* Understanding skewness and kurtosis helps in describing the shape of a distribution and in choosing appropriate statistical methods for analysis."
      ]
    },
    {
      "cell_type": "markdown",
      "source": [
        "###Question 5: Implement a Python program to compute the mean, median, and mode of\n",
        "###a given list of numbers.\n"
      ],
      "metadata": {
        "id": "wWYt0M9fKb5y"
      }
    },
    {
      "cell_type": "code",
      "metadata": {
        "id": "edd81067"
      },
      "source": [
        "import statistics\n",
        "\n",
        "def compute_mean_median_mode(data):\n",
        "  \"\"\"\n",
        "  Computes the mean, median, and mode of a list of numbers.\n",
        "\n",
        "  Args:\n",
        "    data: A list of numbers.\n",
        "\n",
        "  Returns:\n",
        "    A dictionary containing the mean, median, and mode.\n",
        "  \"\"\"\n",
        "  mean_value = statistics.mean(data)\n",
        "  median_value = statistics.median(data)\n",
        "\n",
        "  try:\n",
        "    mode_value = statistics.mode(data)\n",
        "  except statistics.StatisticsError:\n",
        "    mode_value = \"No unique mode\"\n",
        "\n",
        "  return {\n",
        "      \"mean\": mean_value,\n",
        "      \"median\": median_value,\n",
        "      \"mode\": mode_value\n",
        "  }\n",
        "\n",
        "# Example usage:\n",
        "my_list = [10, 15, 20, 20, 25, 30]\n",
        "results = compute_mean_median_mode(my_list)\n",
        "print(f\"The list is: {my_list}\")\n",
        "print(f\"Mean: {results['mean']}\")\n",
        "print(f\"Median: {results['median']}\")\n",
        "print(f\"Mode: {results['mode']}\")\n",
        "\n",
        "my_list_2 = [1, 2, 3, 4, 5]\n",
        "results_2 = compute_mean_median_mode(my_list_2)\n",
        "print(f\"\\nThe list is: {my_list_2}\")\n",
        "print(f\"Mean: {results_2['mean']}\")\n",
        "print(f\"Median: {results_2['median']}\")\n",
        "print(f\"Mode: {results_2['mode']}\")\n",
        "\n",
        "my_list_3 = [1, 1, 2, 3, 3, 4]\n",
        "results_3 = compute_mean_median_mode(my_list_3)\n",
        "print(f\"\\nThe list is: {my_list_3}\")\n",
        "print(f\"Mean: {results_3['mean']}\")\n",
        "print(f\"Median: {results_3['median']}\")\n",
        "print(f\"Mode: {results_3['mode']}\")"
      ],
      "execution_count": null,
      "outputs": []
    },
    {
      "cell_type": "markdown",
      "source": [
        "###Question 6: Compute the covariance and correlation coefficient between the following\n",
        "###two datasets provided as lists in Python:"
      ],
      "metadata": {
        "id": "tF3VLhTPKszS"
      }
    },
    {
      "cell_type": "code",
      "metadata": {
        "id": "b76bac2d"
      },
      "source": [
        "import numpy as np\n",
        "\n",
        "# Define the two datasets\n",
        "dataset1 = [1, 2, 3, 4, 5]\n",
        "dataset2 = [5, 4, 3, 2, 1]\n",
        "\n",
        "# Compute the covariance\n",
        "covariance = np.cov(dataset1, dataset2)[0, 1]\n",
        "\n",
        "# Compute the correlation coefficient\n",
        "correlation_coefficient = np.corrcoef(dataset1, dataset2)[0, 1]\n",
        "\n",
        "print(f\"Dataset 1: {dataset1}\")\n",
        "print(f\"Dataset 2: {dataset2}\")\n",
        "print(f\"Covariance: {covariance}\")\n",
        "print(f\"Correlation Coefficient: {correlation_coefficient}\")"
      ],
      "execution_count": null,
      "outputs": []
    },
    {
      "cell_type": "markdown",
      "source": [
        "###Question 7: Write a Python script to draw a boxplot for the following numeric list and\n",
        "###identify its outliers. Explain the result:\n"
      ],
      "metadata": {
        "id": "2XYE6CUvK96z"
      }
    },
    {
      "cell_type": "code",
      "metadata": {
        "id": "3913df37"
      },
      "source": [
        "import matplotlib.pyplot as plt\n",
        "import seaborn as sns\n",
        "import pandas as pd\n",
        "\n",
        "# The given numeric list (replace with the actual list if it was provided in the prompt)\n",
        "# Assuming the list is named 'data_list'\n",
        "data_list = [10, 15, 20, 22, 25, 30, 35, 40, 100] # Example list, replace with the user's list\n",
        "\n",
        "# Create a pandas Series from the list for easier plotting with seaborn\n",
        "data_series = pd.Series(data_list)\n",
        "\n",
        "# Create the boxplot\n",
        "plt.figure(figsize=(8, 6))\n",
        "sns.boxplot(x=data_series)\n",
        "plt.title(\"Boxplot of the Data\")\n",
        "plt.xlabel(\"Values\")\n",
        "plt.show()"
      ],
      "execution_count": null,
      "outputs": []
    },
    {
      "cell_type": "markdown",
      "metadata": {
        "id": "296b6cc8"
      },
      "source": [
        "**Explanation of the Boxplot and Outlier Identification:**\n",
        "\n",
        "* The boxplot provides a visual representation of the distribution of the data and helps in identifying potential outliers.\n",
        "\n",
        "*   **The Box:**\n",
        "* The box in the plot represents the interquartile range (IQR), which is the range between the first quartile (Q1) and the third quartile (Q3). Q1 is the 25th percentile, and Q3 is the 75th percentile of the data. The line inside the box represents the median (the 50th percentile).\n",
        "*   **The Whiskers:**\n",
        "* The lines extending from the box are called whiskers. They typically extend to the minimum and maximum values within 1.5 times the IQR from the edges of the box (Q1 - 1.5 * IQR and Q3 + 1.5 * IQR).\n",
        "*   **Outliers:**\n",
        "* Data points that fall outside the whiskers are considered potential outliers. They are often plotted as individual points (like circles or diamonds) beyond the whiskers.\n",
        "\n",
        "* In the boxplot generated for the list `[10, 15, 20, 22, 25, 30, 35, 40, 100]`:\n",
        "\n",
        "*   The box covers the range of the middle 50% of the data.\n",
        "*   The whiskers extend to the values within the calculated range based on the IQR.\n",
        "*   The data point `100` is shown as a separate circle outside the upper whisker. This indicates that `100` is an outlier in this dataset, as it is significantly larger than the other values and falls beyond the typical range of the data distribution as represented by the box and whiskers.\n",
        "\n",
        "* Outliers can significantly affect statistical calculations like the mean, so identifying and understanding them is an important step in data analysis."
      ]
    },
    {
      "cell_type": "markdown",
      "metadata": {
        "id": "900969e4"
      },
      "source": [
        "### Question 8: You are working as a data analyst in an e-commerce company. The marketing team wants to know if there is a relationship between advertising spend and daily sales.\n",
        "\n",
        "*   **Explain how you would use covariance and correlation to explore this relationship.**\n",
        "\n",
        "* In this e-commerce scenario, covariance and correlation are valuable tools to understand the relationship between advertising spend and daily sales.\n",
        "\n",
        "*   **Covariance:**\n",
        "* Covariance measures the direction of the linear relationship between two variables. A positive covariance indicates that as advertising spend increases, daily sales tend to increase as well. A negative covariance suggests that as advertising spend increases, daily sales tend to decrease. A covariance close to zero implies a weak or no linear relationship. However, the magnitude of covariance is not standardized, making it difficult to compare the strength of the relationship across different datasets.\n",
        "\n",
        "*   **Correlation Coefficient:**\n",
        "* The correlation coefficient (specifically, Pearson's correlation coefficient) is a standardized measure of the linear relationship between two variables. It ranges from -1 to +1.\n",
        "    *   A correlation coefficient of +1 indicates a perfect positive linear relationship (as advertising spend increases, daily sales increase proportionally).\n",
        "    *   A correlation coefficient of -1 indicates a perfect negative linear relationship (as advertising spend increases, daily sales decrease proportionally).\n",
        "    *   A correlation coefficient of 0 indicates no linear relationship.\n",
        "    *   Values between 0 and +1 or 0 and -1 indicate weaker positive or negative linear relationships, respectively.\n",
        "\n",
        "* By computing the correlation coefficient between advertising spend and daily sales, the marketing team can get a clear, standardized measure of how strongly and in what direction these two variables are linearly related. This information can help them understand the impact of advertising on sales and inform their marketing strategies.\n",
        "\n",
        "*   **Write Python code to compute the correlation between the two lists:**\n",
        "    `advertising_spend = [200, 250, 300, 400, 500]`\n",
        "    `daily_sales = [2200, 2450, 2750, 3200, 4000]`"
      ]
    },
    {
      "cell_type": "code",
      "metadata": {
        "id": "ea0e79b3"
      },
      "source": [
        "import numpy as np\n",
        "\n",
        "# Define the two datasets\n",
        "advertising_spend = [200, 250, 300, 400, 500]\n",
        "daily_sales = [2200, 2450, 2750, 3200, 4000]\n",
        "\n",
        "# Compute the correlation coefficient\n",
        "correlation_coefficient = np.corrcoef(advertising_spend, daily_sales)[0, 1]\n",
        "\n",
        "print(f\"Advertising Spend: {advertising_spend}\")\n",
        "print(f\"Daily Sales: {daily_sales}\")\n",
        "print(f\"Correlation Coefficient: {correlation_coefficient}\")"
      ],
      "execution_count": null,
      "outputs": []
    },
    {
      "cell_type": "markdown",
      "source": [
        "Question 9: Your team has collected customer satisfaction survey data on a scale of\n",
        "1-10 and wants to understand its distribution before launching a new product.\n",
        "● Explain which summary statistics and visualizations (e.g. mean, standard\n",
        "deviation, histogram) you’d use.\n",
        "● Write Python code to create a histogram using Matplotlib for the survey data:\n",
        "survey_scores = [7, 8, 5, 9, 6, 7, 8, 9, 10, 4, 7, 6, 9, 8, 7]\n",
        "(Include your Python code and output in the code  below.)"
      ],
      "metadata": {
        "id": "G1jbAgxSMTxq"
      }
    },
    {
      "cell_type": "markdown",
      "metadata": {
        "id": "52332465"
      },
      "source": [
        "### Question 9: Your team has collected customer satisfaction survey data on a scale of 1-10 and wants to understand its distribution before launching a new product.\n",
        "\n",
        "*   **Explain which summary statistics and visualizations (e.g. mean, standard deviation, histogram) you’d use.**\n",
        "\n",
        "* To understand the distribution of customer satisfaction survey data on a scale of 1-10, several summary statistics and visualizations would be useful:\n",
        "\n",
        "**Summary Statistics:**\n",
        "\n",
        "*   **Mean:** The average satisfaction score provides a single measure of the typical satisfaction level.\n",
        "*   **Median:** The middle satisfaction score when the data is ordered helps understand the central tendency, especially if the data is skewed.\n",
        "*   **Mode:** The most frequent satisfaction score indicates the most common response.\n",
        "*   **Standard Deviation:** This measures the spread or variability of the satisfaction scores around the mean. A higher standard deviation indicates more variation in responses.\n",
        "*   **Range:** The difference between the maximum and minimum scores gives a simple measure of the spread.\n",
        "*   **Percentiles (e.g., 25th, 75th):** These can help understand the distribution of scores and identify quartiles, which are useful for creating boxplots.\n",
        "\n",
        "**Visualizations:**\n",
        "\n",
        "*   **Histogram:** A histogram is excellent for visualizing the distribution of the data. It shows the frequency of each satisfaction score (or ranges of scores) and helps identify the shape of the distribution (e.g., normal, skewed), the most common scores, and the spread of the data.\n",
        "*   **Boxplot:** A boxplot provides a visual summary of the distribution, showing the median, quartiles, and potential outliers. It's useful for comparing the distribution across different groups if you had additional categorical variables (e.g., satisfaction scores by region).\n",
        "*   **Bar Chart:** While a histogram groups values into bins, a bar chart can be used to show the frequency of each individual satisfaction score from 1 to 10.\n",
        "\n",
        "In this case, a **histogram** would be particularly insightful to see the frequency of each score and the overall shape of the distribution. Calculating the **mean**, **median**, **mode**, and **standard deviation** would provide key numerical summaries of the data.\n",
        "\n",
        "*   **Write Python code to create a histogram using Matplotlib for the survey data:**\n",
        "    `survey_scores = [7, 8, 5, 9, 6, 7, 8, 9, 10, 4, 7, 6, 9, 8, 7]`"
      ]
    },
    {
      "cell_type": "code",
      "metadata": {
        "id": "0496f26f"
      },
      "source": [
        "import matplotlib.pyplot as plt\n",
        "\n",
        "# The given survey data\n",
        "survey_scores = [7, 8, 5, 9, 6, 7, 8, 9, 10, 4, 7, 6, 9, 8, 7]\n",
        "\n",
        "# Create the histogram\n",
        "plt.figure(figsize=(8, 6))\n",
        "plt.hist(survey_scores, bins=range(4, 12), align='left', rwidth=0.8) # Bins for scores 4 to 10\n",
        "plt.title(\"Distribution of Customer Satisfaction Scores\")\n",
        "plt.xlabel(\"Satisfaction Score (1-10)\")\n",
        "plt.ylabel(\"Frequency\")\n",
        "plt.xticks(range(4, 11)) # Set x-axis ticks to be the survey scores\n",
        "plt.grid(axis='y', alpha=0.75)\n",
        "plt.show()"
      ],
      "execution_count": null,
      "outputs": []
    }
  ]
}